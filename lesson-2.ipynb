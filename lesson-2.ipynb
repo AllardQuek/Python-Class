{
 "cells": [
  {
   "cell_type": "code",
   "execution_count": 7,
   "metadata": {},
   "outputs": [
    {
     "name": "stdout",
     "output_type": "stream",
     "text": [
      "2\n",
      "2.5\n"
     ]
    }
   ],
   "source": [
    "print(5 // 2)\n",
    "print(5 / 2)"
   ]
  },
  {
   "cell_type": "code",
   "execution_count": null,
   "metadata": {},
   "outputs": [],
   "source": [
    "\"hello\" + \"world\""
   ]
  },
  {
   "cell_type": "code",
   "execution_count": null,
   "metadata": {},
   "outputs": [],
   "source": [
    "s1 = \"hello\"\n",
    "s2 = \"world\"\n",
    "\n",
    "s1 + s2"
   ]
  },
  {
   "cell_type": "code",
   "execution_count": null,
   "metadata": {},
   "outputs": [],
   "source": [
    "s1 = \"hello\"\n",
    "s2 = \"world\"\n",
    "\n",
    "s1 + s2"
   ]
  },
  {
   "cell_type": "code",
   "execution_count": null,
   "metadata": {},
   "outputs": [
    {
     "name": "stdout",
     "output_type": "stream",
     "text": [
      "helloworld\n"
     ]
    }
   ],
   "source": [
    "s1 = \"hello\"\n",
    "s2 = \"world\"#my original code\n",
    "#books \n",
    "jk = 1\n",
    "rd = 1\n",
    "# None or zero\n",
    "\n",
    "Dave = 20.5\n",
    "Sarah = 31 \n",
    "\n",
    "remainder = 5*rd - 2*rd\n",
    "\n",
    "print(remainder, \"rd\")\n",
    "\n",
    "three_rd = 31 - 20.5\n",
    "\n",
    "print(three_rd, \"dollars\")\n",
    "\n",
    "answer = 10.5 / 3 \n",
    "\n",
    "print(\"Sarah paid\", answer, \"dollars for one Roald Dahl book.\")\n",
    "\n",
    "\n",
    "s3 = s1 + s2\n",
    "print(f\"{s3}\")\n"
   ]
  },
  {
   "attachments": {},
   "cell_type": "markdown",
   "metadata": {},
   "source": [
    "Dave paid $20.50 for a Jeff Kinney book and 2 Roald Dahl books. Sarah paid $31 for a Jeff Kinney book and 5 Roald Dahl books. \n",
    "\n",
    "How much did Sarah pay for 1 Roald Dahl book?"
   ]
  },
  {
   "cell_type": "code",
   "execution_count": 1,
   "metadata": {},
   "outputs": [
    {
     "name": "stdout",
     "output_type": "stream",
     "text": [
      "3 rd\n",
      "10.5 dollars\n",
      "Sarah paid 3.5 dollars for one Roald Dahl book.\n"
     ]
    }
   ],
   "source": [
    "# Allard's code\n",
    "# Initialize variables: try to use meaningful names\n",
    "num_rd_dave = 2\n",
    "num_rd_sarah = 5\n",
    "Dave = 20.5\n",
    "Sarah = 31 \n",
    "\n",
    "# Avoid magic numbers: 5 and 2\n",
    "remainder = num_rd_sarah - num_rd_dave\n",
    "print(remainder, \"rd\")\n",
    "\n",
    "three_rd = Sarah - Dave\n",
    "print(three_rd, \"dollars\")\n",
    "\n",
    "answer = 10.5 / 3 \n",
    "print(\"Sarah paid\", answer, \"dollars for one Roald Dahl book.\")\n"
   ]
  },
  {
   "cell_type": "code",
   "execution_count": null,
   "metadata": {},
   "outputs": [],
   "source": []
  }
 ],
 "metadata": {
  "kernelspec": {
   "display_name": "Python 3",
   "language": "python",
   "name": "python3"
  },
  "language_info": {
   "codemirror_mode": {
    "name": "ipython",
    "version": 3
   },
   "file_extension": ".py",
   "mimetype": "text/x-python",
   "name": "python",
   "nbconvert_exporter": "python",
   "pygments_lexer": "ipython3",
   "version": "3.10.0"
  },
  "orig_nbformat": 4
 },
 "nbformat": 4,
 "nbformat_minor": 2
}
